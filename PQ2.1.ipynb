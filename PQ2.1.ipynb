{
 "cells": [
  {
   "cell_type": "code",
   "execution_count": 34,
   "metadata": {
    "extensions": {
     "jupyter_dashboards": {
      "version": 1,
      "views": {
       "grid_default": {},
       "report_default": {
        "hidden": false
       }
      }
     }
    }
   },
   "outputs": [
    {
     "data": {
      "application/vnd.jupyter.widget-view+json": {
       "model_id": "9ce6f0563191451ab9923796b3c3d9e7",
       "version_major": 2,
       "version_minor": 0
      },
      "text/plain": [
       "HBox(children=(VBox(children=(FloatSlider(value=120.0, description='N₂ Pressure (bar)', layout=Layout(margin='…"
      ]
     },
     "metadata": {},
     "output_type": "display_data"
    },
    {
     "data": {
      "application/vnd.jupyter.widget-view+json": {
       "model_id": "d9567c0921e144ecb91484d1defa2765",
       "version_major": 2,
       "version_minor": 0
      },
      "text/plain": [
       "Output()"
      ]
     },
     "metadata": {},
     "output_type": "display_data"
    }
   ],
   "source": [
    "# nbi:hide_in\n",
    "import numpy as np\n",
    "from bqplot import pyplot as plt\n",
    "import ipywidgets as widgets\n",
    "from IPython.display import display\n",
    "import nbinteract as nbi\n",
    "from ipywidgets import *\n",
    "\n",
    "\n",
    "layout={'width':'350px','margin':'0 0 0 0','padding':'0 0 0 0'}\n",
    "style={'description_width':'150px'}\n",
    "phs=FloatSlider(min=0,max=200,value=120,description='N\\u2082 Pressure (bar)',layout=layout,style=style)\n",
    "Dint=FloatSlider(min=0,max=500,value=284,description='\\u2300 Intensification cyl.(mm)',layout=layout,style=style)\n",
    "Dinj=FloatSlider(min=0,max=300,value=181,description='\\u2300 Injection cyl(mm)',layout=layout,style=style)\n",
    "Dpl=FloatSlider(min=0,max=200,value=120,description='\\u2300 Piston (mm)',layout=layout,style=style)\n",
    "Ag=FloatSlider(min=0,max=50,value=15.5,description='Gate area (cm\\u00b2)',layout=layout,style=style)\n",
    "vpl=FloatSlider(min=0,max=10,value=4.2,description='Plunger speed (m/s)',layout=layout,style=style)\n",
    "Ti=FloatSlider(min=500,max=800,value=630,description='Metal temp at gate \\u00b0C',layout=layout,style=style)\n",
    "Tf=FloatSlider(min=500,max=800,value=570,description='Min metal temp to flow \\u00b0C',layout=layout,style=style)\n",
    "Td=FloatSlider(min=50,max=400,value=180,description='Die temp \\u00b0C',layout=layout,style=style)\n",
    "S=FloatSlider(min=0,max=100,value=20,description='Fraction solid (%)',layout=layout,style=style)\n",
    "tw=FloatSlider(min=0,max=10,value=4,description='Avg wall thickness (mm)',layout=layout,style=style)\n",
    "dl=FloatSlider(min=0,max=3,value=2.39,description='density of Al (g/cm\\u00b3)',layout=layout,style=style)\n",
    "Cd=FloatSlider(min=0,max=1,value=0.5,description='Co-effecient of discharge',layout=layout,style=style)\n",
    "vgmax=FloatSlider(min=0,max=100,value=55,description='Max gate velocity (m/s)',layout=layout,style=style)\n",
    "vgmin=FloatSlider(min=0,max=100,value=25,description='Min gate velocity (m/s)',layout=layout,style=style)\n",
    "Wp=FloatSlider(min=0,max=30000,value=5040,description='Part weight (gms)',layout=layout,style=style)\n",
    "Wof=FloatSlider(min=0,max=10000,value=688,description='Overflow weight (gms)',layout=layout,style=style)\n",
    "Wrun=FloatSlider(min=0,max=20000,value=2920,description='Runner weight (gms)',layout=layout,style=style)\n",
    "Aproj=FloatSlider(min=0,max=5000,value=1750,description='Projected area (cm\\u00b2)',layout=layout,style=style)\n",
    "Ls=FloatSlider(min=0,max=200,value=89.2,description='Sleeve length (cm)',layout=layout,style=style)\n",
    "vdry=FloatSlider(min=0,max=10,value=6.5,description='Dry plunger speed (m/s)',layout=layout,style=style)\n",
    "tb=FloatSlider(min=0,max=10,value=3.5,description='Biscuit thickness (cm)',layout=layout,style=style)\n",
    "Tliq=IntSlider(min=550,max=600,value=582,description='Liquidus temp in \\u00b0C',\n",
    "              layout=layout,style=style)\n",
    "Tsol=IntSlider(min=500,max=550,value=516,description='Solidus temperature in \\u00b0C',\n",
    "              layout=layout,style=style)\n",
    "gt=Text(description='Part name',layout=layout,style=style)\n",
    "\n",
    "def calc_1(phs,Dint,Dinj,Dpl,Ag,vpl,vdry,Ti,Tf,Td,S,tw,dl,Cd,tb,\n",
    "           vgmax,vgmin,Wp,Wof,Wrun,Aproj,Ls,Tliq,Tsol,gt):\n",
    "    Z=3.8\n",
    "    g=9.81\n",
    "    cp=962.5 # specific heat in J/kg deg K\n",
    "    Lf=388442 # Latent heat of fusion in J/kg\n",
    "    k=96.1 # Thermal conductivity in J/s m degK\n",
    "    hsurf=65000 #Convective heat transfer coeffecient in W/m^2 degK\n",
    "    if Ti>Tliq:\n",
    "        Te=Tliq # Solidification analysis start temperature\n",
    "    else :\n",
    "        Te=Ti\n",
    "    Aint=np.pi*(Dint/10)**2/4\n",
    "    Ainj=np.pi*(Dinj/10)**2/4\n",
    "    Finj=phs*Ainj*10/1000\n",
    "    Apl=np.pi*(Dpl/10)**2/4\n",
    "    Pm=Finj/Apl*1000/10\n",
    "    Vm=(Wp+Wof)/dl\n",
    "    tact=Vm/(Apl*vpl*100)\n",
    "    Q=Vm/tact\n",
    "    \n",
    "    vg=Apl*vpl/Ag\n",
    "    hc=k/2/(tw/1000)*(3.3+0.02*(2*vg*tw*dl*cp/k)**0.8) #convective heat transfer computed \n",
    "                                                      #  variable in W/m^2 degK\n",
    "    h=(hc*hsurf)/(hc+hsurf) # Convective heat transfer coeffecient \n",
    "                            #computed variable in W/m^2 degK\n",
    "    trec=tw/2*dl*cp/h*(-np.log((Tliq-Td-S/100*(Tliq-Tsol))/(Ti-Td))-\n",
    "                      Lf/(cp*(Tliq-Tsol))*np.log((Tliq-Td-S/100*(Tliq-Tsol))/(Te-Td))) #Flow time\n",
    "                                            #Elapsed time from injection to target fraction solid\n",
    "    xfs=vg*trec\n",
    "    Agt=Vm/1e6/xfs # Target gate area to achieve conditions\n",
    "    Qrec=Vm/trec\n",
    "    Pmax=Aint/Apl*phs\n",
    "    Wshot=Wp+Wof+Wrun\n",
    "    Rf=Wshot/dl/(Apl*Ls)\n",
    "    Qmax=Apl*vdry*100\n",
    "    Wb=tb*Apl*dl\n",
    "    s1=(1-Rf)*Ls\n",
    "    s2=(Wrun-Wb)/dl/Apl\n",
    "    L1st=s1+s2\n",
    "    Phase2pos=s1+s2\n",
    "    Wb=tb*Apl*dl\n",
    "    L2nd=Ls-(L1st+tb)\n",
    "    vgmaxp=(dl/(2*g*100))*(vgmax*100/Cd)**2/1000/1.01972\n",
    "    vgminp=(dl/(2*g*100))*(vgmin*100/Cd)**2/1000/1.01972\n",
    "    vgp=(dl/(2*g*100))*(vg*100/Cd)**2/1000/1.01972\n",
    "    Flreq=Aproj*Pmax*10/1000/g\n",
    "    ax= plt.figure(figsize=(20,7))\n",
    "    plt.clear()\n",
    "    plt.title('PQ\\u00B2 '+str(gt))\n",
    "#     plt.subplots_adjust(left=0.1,top=0.93,right=1)\n",
    "    plt.plot([0,Qmax**2],[Pm,0],'b-' ,labels=['Machine line'],display_legend=True)\n",
    "    plt.plot([Q**2,Q**2],[vgp,vgp],'rs',labels=['Actual process point'],display_legend=True)\n",
    "    plt.plot([0,Qmax**2*2],[0,vgp/Q**2*Qmax**2*2],'m-',labels=['Die line'],display_legend=True,ax=ax)\n",
    "    plt.hline(vgmin,color=['c-'],labels=['Min gate velocity'],display_legend=True)\n",
    "    plt.hline(vgmaxp,color=['r-'],labels=['Max gate velocity'],display_legend=True)\n",
    "    plt.plot([Qrec**2]*2,[vgminp,vgmaxp],labels=['min flow required'],display_legend=True)\n",
    "    plt.xlim(0,Qmax**2*1.2)\n",
    "    plt.ylim(0,Pm*1.2)\n",
    "    ax.legend_location='top-right'\n",
    "    plt.xlabel('Flow (Q\\u00B2) in (cm\\u00B3/s)\\u00B2')\n",
    "    plt.ylabel('Metal Pressure in Sleeve (Pm) in bar')\n",
    "#     ax.text(Qmax**2,vgmaxp+5,'vgmax = '+str(vgmax)+' m/s',ha='center')\n",
    "#     ax.text(Qmax**2,vgminp+5,'vgmin = '+str(vgmin)+' m/s',ha='center')\n",
    "#     ax.text(Q**2*1.05,vgp,'gate velocity: '+str(int(round(vg,0)))+' m/s',ha='left')\n",
    "    \n",
    "    plt.show()\n",
    "    print('phase2pos: {} mm \\nLocking force: {} tons \\nIntensification pressure: {} bar \\nFill ratio: {}\\nShot weight: {} gms'.format(round(Phase2pos*10,0),round(Flreq,0),round(Pmax,0),round(Rf*100,0),Wshot))\n",
    "    print('hc ={} W/m^2 degK (convective heat transfer computed)\\\n",
    "          \\nh= {} W/m^2 degK (convective heat transfer computed)\\\n",
    "          \\ntrec= {} s (Target flow time, Elapsed time from injection to target fraction solid)\\\n",
    "          \\nxfs = {}  \\\n",
    "          \\nAgt = {} cm^2 (Target gate area to achieve conditions specified)' \\\n",
    "         .format(round(hc,0),round(h,0),round(trec,4),xfs,round(Agt*1e4,2)))\n",
    "    print('Pressure of metal in sleeve={} \\\n",
    "          \\nFill time ={} \\\n",
    "          \\nFlow (Qrec)= {} \\\n",
    "          \\nFill time rec= {}' \\\n",
    "          .format(round(Pm,0),round(tact,4),round(Qrec,0),round(trec,4)))\n",
    "\n",
    "display(widgets.HBox([VBox([phs,Dint,Dinj,Dpl,Ag,vpl,vdry,Tliq]),VBox([vgmax,vgmin,Wp,Wof,Wrun,Ti,Tf,Td]), \n",
    "                      VBox([S,tw,dl,Cd,tb,Tsol,Aproj,Ls,gt])]),\n",
    "        widgets.interactive_output(calc_1,{'phs':phs,'Dint':Dint,'Dinj':Dinj,'Dpl':Dpl,\n",
    "                                           'Ag':Ag,'vpl':vpl,'vdry':vdry,'Ti':Ti,\n",
    "                                           'Tf':Tf,'Td':Td,'S':S,'tw':tw,'dl':dl,'Cd':Cd,\n",
    "                                           'tb':tb,'vgmax':vgmax,'vgmin':vgmin,'Wp':Wp,\n",
    "                                           'Wof':Wof,'Wrun':Wrun,'Aproj':Aproj,'Ls':Ls,\n",
    "                                           'Tliq':Tliq,'Tsol':Tsol,'gt':gt}))"
   ]
  },
  {
   "cell_type": "code",
   "execution_count": 36,
   "metadata": {},
   "outputs": [
    {
     "data": {
      "application/javascript": [
       "IPython.notebook.save_checkpoint();"
      ],
      "text/plain": [
       "<IPython.core.display.Javascript object>"
      ]
     },
     "metadata": {},
     "output_type": "display_data"
    },
    {
     "data": {
      "application/javascript": [
       "IPython.notebook.save_notebook();"
      ],
      "text/plain": [
       "<IPython.core.display.Javascript object>"
      ]
     },
     "metadata": {},
     "output_type": "display_data"
    },
    {
     "name": "stdout",
     "output_type": "stream",
     "text": [
      "Saving notebook... Saved 'PQ2.1.ipynb'.\n",
      "Converting notebook...\n"
     ]
    },
    {
     "data": {
      "text/markdown": [
       "\n",
       "Successfully converted!\n",
       "\n",
       "<a href=\"PQ2.1.html\" target=\"_blank\" download>Click to download your webpage.</a>\n",
       "\n",
       "To host your webpage, see the documentation:\n",
       "<a href=\"https://www.nbinteract.com/tutorial/tutorial_publishing.html\"\n",
       "        target=\"_blank\">\n",
       "    https://www.nbinteract.com/tutorial/tutorial_publishing.html\n",
       "</a>\n"
      ],
      "text/plain": [
       "<IPython.core.display.Markdown object>"
      ]
     },
     "metadata": {},
     "output_type": "display_data"
    }
   ],
   "source": [
    "nbi.publish('sprabhakar2006/PQ2/master','PQ2.1.ipynb')"
   ]
  }
 ],
 "metadata": {
  "extensions": {
   "jupyter_dashboards": {
    "activeView": "report_default",
    "version": 1,
    "views": {
     "grid_default": {
      "cellMargin": 10,
      "defaultCellHeight": 20,
      "maxColumns": 12,
      "name": "grid",
      "type": "grid"
     },
     "report_default": {
      "name": "report",
      "type": "report"
     }
    }
   }
  },
  "kernelspec": {
   "display_name": "Python 3",
   "language": "python",
   "name": "python3"
  },
  "language_info": {
   "codemirror_mode": {
    "name": "ipython",
    "version": 3
   },
   "file_extension": ".py",
   "mimetype": "text/x-python",
   "name": "python",
   "nbconvert_exporter": "python",
   "pygments_lexer": "ipython3",
   "version": "3.7.4"
  }
 },
 "nbformat": 4,
 "nbformat_minor": 4
}
